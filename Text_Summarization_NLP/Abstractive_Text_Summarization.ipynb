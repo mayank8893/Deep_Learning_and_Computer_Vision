{
 "cells": [
  {
   "cell_type": "markdown",
   "id": "14007502",
   "metadata": {},
   "source": [
    "# Text Summarization\n",
    "\n",
    "In this project, I will work on creating an **abstractive text summarization** from an input text using **torch and transformer model T5-small**. \n",
    "\n",
    "Text summarization is a **natural language processing (NLP)** task that involves generating concise and coherent summaries from longer pieces of text, such as articles, documents, or web pages. The goal of text summarization is to distill the main ideas, key points, and essential information from the source text while preserving its meaning and context. Summarization has various applications, including information retrieval, content summarization for news articles, automatic document summarization, and more. \n",
    "\n",
    "**Extractive summarization** methods select and extract existing sentences or phrases directly from the source text to create a summary. These selected sentences are typically the most important or representative ones.\n",
    "\n",
    "**Abstractive summarization** methods generate new sentences that capture the essence of the source text while using their own wording. These methods rely on natural language generation techniques and can paraphrase and combine information to create a more concise and coherent summary."
   ]
  },
  {
   "cell_type": "code",
   "execution_count": 103,
   "id": "e26e9de3",
   "metadata": {},
   "outputs": [],
   "source": [
    "# import dependencies.\n",
    "import torch\n",
    "from transformers import T5ForConditionalGeneration, T5Tokenizer, T5Config"
   ]
  },
  {
   "cell_type": "code",
   "execution_count": 104,
   "id": "8951d62d",
   "metadata": {},
   "outputs": [],
   "source": [
    "model = T5ForConditionalGeneration.from_pretrained('t5-small') # initialize a pretrained model.\n",
    "tokenizer = T5Tokenizer.from_pretrained('t5-small') # using a pretrained tokenizer.\n",
    "device = torch.device('cpu') # cpu, gpu etc"
   ]
  },
  {
   "cell_type": "code",
   "execution_count": 105,
   "id": "e95631ff",
   "metadata": {},
   "outputs": [],
   "source": [
    "# Define the larger source text to be summarized\n",
    "source_text = \"\"\"\n",
    "The invention of the internet has brought about revolutionary changes in the way we communicate, access information, and conduct business. \n",
    "It has transformed various aspects of our lives, from the way we shop to the way we socialize. The internet has also enabled the rapid exchange of knowledge, \n",
    "making education and research more accessible than ever before.\n",
    "\n",
    "In recent years, social media platforms have become a significant part of online interactions. People use platforms such as Facebook, Twitter, and Instagram to connect \n",
    "with friends, share updates, and engage in discussions. However, the rise of social media has also raised concerns about privacy, misinformation, and its impact on mental health.\n",
    "\n",
    "E-commerce, fueled by the internet, has revolutionized the retail industry. Consumers can now shop for products from around the world and have them delivered to their doorstep. \n",
    "Online marketplaces like Amazon have become giants in the e-commerce space, offering a wide range of products and services.\n",
    "\n",
    "The internet has also transformed entertainment and media consumption. Streaming platforms like Netflix, YouTube, and Spotify allow users to access a vast library of content \n",
    "on-demand. Traditional media outlets have had to adapt to the digital age by offering online news and streaming services.\n",
    "\n",
    "In the field of healthcare, the internet has enabled telemedicine, allowing patients to consult with doctors remotely. Medical information and resources are readily available \n",
    "online, empowering individuals to take charge of their health.\n",
    "\n",
    "While the internet has brought many benefits, it has also given rise to challenges such as cybersecurity threats, online harassment, and the spread of fake news. \n",
    "Efforts are being made to address these issues and create a safer online environment.\n",
    "\n",
    "In conclusion, the internet has had a profound impact on society, transforming the way we communicate, learn, shop, and more. It has opened up new opportunities and \n",
    "challenges that continue to shape our digital world.\n",
    "\"\"\""
   ]
  },
  {
   "cell_type": "code",
   "execution_count": 106,
   "id": "3df5fde2",
   "metadata": {},
   "outputs": [],
   "source": [
    "# Tokenize and encode the source text\n",
    "inputs = tokenizer.encode(\"summarize: \" + source_text, return_tensors=\"pt\", max_length=1024, truncation=True)"
   ]
  },
  {
   "cell_type": "code",
   "execution_count": 107,
   "id": "a1ddb9a3",
   "metadata": {},
   "outputs": [
    {
     "data": {
      "text/plain": [
       "'summarize: The invention of the internet has brought about revolutionary changes in the way we communicate, access information, and conduct business. It has transformed various aspects of our lives, from the way we shop to the way we socialize. The internet has also enabled the rapid exchange of knowledge, making education and research more accessible than ever before.In recent years, social media platforms have become a significant part of online interactions. People use platforms such as Facebook, Twitter, and Instagram to connect with friends, share updates, and engage in discussions. However, the rise of social media has also raised concerns about privacy, misinformation, and its impact on mental health.E-commerce, fueled by the internet, has revolutionized the retail industry. Consumers can now shop for products from around the world and have them delivered to their doorstep. Online marketplaces like Amazon have become giants in the e-commerce space, offering a wide range of products and services.The internet has also transformed entertainment and media consumption. Streaming platforms like Netflix, YouTube, and Spotify allow users to access a vast library of content on-demand. Traditional media outlets have had to adapt to the digital age by offering online news and streaming services.In the field of healthcare, the internet has enabled telemedicine, allowing patients to consult with doctors remotely. Medical information and resources are readily available online, empowering individuals to take charge of their health.While the internet has brought many benefits, it has also given rise to challenges such as cybersecurity threats, online harassment, and the spread of fake news. Efforts are being made to address these issues and create a safer online environment.In conclusion, the internet has had a profound impact on society, transforming the way we communicate, learn, shop, and more. It has opened up new opportunities and challenges that continue to shape our digital world.'"
      ]
     },
     "execution_count": 107,
     "metadata": {},
     "output_type": "execute_result"
    }
   ],
   "source": [
    "# Looking at the input text\n",
    "t5_input_text"
   ]
  },
  {
   "cell_type": "code",
   "execution_count": 108,
   "id": "0bef5053",
   "metadata": {},
   "outputs": [
    {
     "data": {
      "text/plain": [
       "302"
      ]
     },
     "execution_count": 108,
     "metadata": {},
     "output_type": "execute_result"
    }
   ],
   "source": [
    "len(t5_input_text.split())"
   ]
  },
  {
   "cell_type": "code",
   "execution_count": 109,
   "id": "302e5f9b",
   "metadata": {},
   "outputs": [],
   "source": [
    "# tokenize the text.\n",
    "tokenized_text = tokenizer.encode(t5_input_text, return_tensors='pt', max_length=1024, truncation = True).to(device)"
   ]
  },
  {
   "cell_type": "code",
   "execution_count": 110,
   "id": "869aca37",
   "metadata": {},
   "outputs": [],
   "source": [
    "# Generate the summary\n",
    "summary_ids = model.generate(inputs, max_length=200, min_length=50, length_penalty=2.0, num_beams=4, early_stopping=True)\n",
    "\n",
    "# Decode the generated summary\n",
    "summary = tokenizer.decode(summary_ids[0], skip_special_tokens=True)"
   ]
  },
  {
   "cell_type": "code",
   "execution_count": 111,
   "id": "47f9c3e8",
   "metadata": {},
   "outputs": [
    {
     "name": "stdout",
     "output_type": "stream",
     "text": [
      "Source Text:\n",
      "\n",
      "The invention of the internet has brought about revolutionary changes in the way we communicate, access information, and conduct business. \n",
      "It has transformed various aspects of our lives, from the way we shop to the way we socialize. The internet has also enabled the rapid exchange of knowledge, \n",
      "making education and research more accessible than ever before.\n",
      "\n",
      "In recent years, social media platforms have become a significant part of online interactions. People use platforms such as Facebook, Twitter, and Instagram to connect \n",
      "with friends, share updates, and engage in discussions. However, the rise of social media has also raised concerns about privacy, misinformation, and its impact on mental health.\n",
      "\n",
      "E-commerce, fueled by the internet, has revolutionized the retail industry. Consumers can now shop for products from around the world and have them delivered to their doorstep. \n",
      "Online marketplaces like Amazon have become giants in the e-commerce space, offering a wide range of products and services.\n",
      "\n",
      "The internet has also transformed entertainment and media consumption. Streaming platforms like Netflix, YouTube, and Spotify allow users to access a vast library of content \n",
      "on-demand. Traditional media outlets have had to adapt to the digital age by offering online news and streaming services.\n",
      "\n",
      "In the field of healthcare, the internet has enabled telemedicine, allowing patients to consult with doctors remotely. Medical information and resources are readily available \n",
      "online, empowering individuals to take charge of their health.\n",
      "\n",
      "While the internet has brought many benefits, it has also given rise to challenges such as cybersecurity threats, online harassment, and the spread of fake news. \n",
      "Efforts are being made to address these issues and create a safer online environment.\n",
      "\n",
      "In conclusion, the internet has had a profound impact on society, transforming the way we communicate, learn, shop, and more. It has opened up new opportunities and \n",
      "challenges that continue to shape our digital world.\n",
      "\n",
      "\n",
      "Generated Summary:\n",
      "the invention of the internet has transformed the way we communicate, access information, and conduct business. it has also enabled the rapid exchange of knowledge, making education and research more accessible than ever before. social media has also raised concerns about privacy, misinformation, and its impact on mental health.\n"
     ]
    }
   ],
   "source": [
    "# Print the original source text and the generated summary\n",
    "print(\"Source Text:\")\n",
    "print(source_text)\n",
    "print(\"\\nGenerated Summary:\")\n",
    "print(summary)"
   ]
  },
  {
   "cell_type": "code",
   "execution_count": null,
   "id": "16f9656b",
   "metadata": {},
   "outputs": [],
   "source": [
    "\n"
   ]
  },
  {
   "cell_type": "code",
   "execution_count": null,
   "id": "b262be5b",
   "metadata": {},
   "outputs": [],
   "source": []
  },
  {
   "cell_type": "code",
   "execution_count": null,
   "id": "c07bb758",
   "metadata": {},
   "outputs": [],
   "source": []
  }
 ],
 "metadata": {
  "kernelspec": {
   "display_name": "Python 3 (ipykernel)",
   "language": "python",
   "name": "python3"
  },
  "language_info": {
   "codemirror_mode": {
    "name": "ipython",
    "version": 3
   },
   "file_extension": ".py",
   "mimetype": "text/x-python",
   "name": "python",
   "nbconvert_exporter": "python",
   "pygments_lexer": "ipython3",
   "version": "3.11.3"
  }
 },
 "nbformat": 4,
 "nbformat_minor": 5
}
